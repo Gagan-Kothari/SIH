{
 "cells": [
  {
   "cell_type": "code",
   "execution_count": 98,
   "id": "491e0428",
   "metadata": {
    "execution": {
     "iopub.execute_input": "2024-06-02T15:54:59.826319Z",
     "iopub.status.busy": "2024-06-02T15:54:59.825938Z",
     "iopub.status.idle": "2024-06-02T15:55:02.496253Z",
     "shell.execute_reply": "2024-06-02T15:55:02.495003Z"
    },
    "papermill": {
     "duration": 2.680501,
     "end_time": "2024-06-02T15:55:02.499326",
     "exception": false,
     "start_time": "2024-06-02T15:54:59.818825",
     "status": "completed"
    },
    "tags": []
   },
   "outputs": [],
   "source": [
    "import pandas as pd\n",
    "import numpy as np\n",
    "import seaborn as sns\n",
    "import matplotlib.pyplot as plt"
   ]
  },
  {
   "cell_type": "code",
   "execution_count": 103,
   "id": "bff886af",
   "metadata": {
    "execution": {
     "iopub.execute_input": "2024-06-02T15:55:02.512378Z",
     "iopub.status.busy": "2024-06-02T15:55:02.511813Z",
     "iopub.status.idle": "2024-06-02T15:55:02.564882Z",
     "shell.execute_reply": "2024-06-02T15:55:02.563675Z"
    },
    "papermill": {
     "duration": 0.062491,
     "end_time": "2024-06-02T15:55:02.567223",
     "exception": false,
     "start_time": "2024-06-02T15:55:02.504732",
     "status": "completed"
    },
    "tags": []
   },
   "outputs": [
    {
     "data": {
      "text/html": [
       "<div>\n",
       "<style scoped>\n",
       "    .dataframe tbody tr th:only-of-type {\n",
       "        vertical-align: middle;\n",
       "    }\n",
       "\n",
       "    .dataframe tbody tr th {\n",
       "        vertical-align: top;\n",
       "    }\n",
       "\n",
       "    .dataframe thead th {\n",
       "        text-align: right;\n",
       "    }\n",
       "</style>\n",
       "<table border=\"1\" class=\"dataframe\">\n",
       "  <thead>\n",
       "    <tr style=\"text-align: right;\">\n",
       "      <th></th>\n",
       "      <th>Temparature</th>\n",
       "      <th>Humidity</th>\n",
       "      <th>Moisture</th>\n",
       "      <th>Soil_Type</th>\n",
       "      <th>Crop_Type</th>\n",
       "      <th>Nitrogen</th>\n",
       "      <th>Potassium</th>\n",
       "      <th>Phosphorous</th>\n",
       "      <th>Fertilizer</th>\n",
       "    </tr>\n",
       "  </thead>\n",
       "  <tbody>\n",
       "    <tr>\n",
       "      <th>0</th>\n",
       "      <td>20</td>\n",
       "      <td>83</td>\n",
       "      <td>26</td>\n",
       "      <td>Clayey</td>\n",
       "      <td>rice</td>\n",
       "      <td>90</td>\n",
       "      <td>49</td>\n",
       "      <td>36</td>\n",
       "      <td>Urea</td>\n",
       "    </tr>\n",
       "    <tr>\n",
       "      <th>1</th>\n",
       "      <td>25</td>\n",
       "      <td>84</td>\n",
       "      <td>32</td>\n",
       "      <td>Loamy</td>\n",
       "      <td>rice</td>\n",
       "      <td>66</td>\n",
       "      <td>59</td>\n",
       "      <td>36</td>\n",
       "      <td>Urea</td>\n",
       "    </tr>\n",
       "    <tr>\n",
       "      <th>2</th>\n",
       "      <td>33</td>\n",
       "      <td>64</td>\n",
       "      <td>50</td>\n",
       "      <td>Loamy</td>\n",
       "      <td>Wheat</td>\n",
       "      <td>41</td>\n",
       "      <td>0</td>\n",
       "      <td>0</td>\n",
       "      <td>Urea</td>\n",
       "    </tr>\n",
       "    <tr>\n",
       "      <th>3</th>\n",
       "      <td>34</td>\n",
       "      <td>65</td>\n",
       "      <td>54</td>\n",
       "      <td>Loamy</td>\n",
       "      <td>Wheat</td>\n",
       "      <td>38</td>\n",
       "      <td>0</td>\n",
       "      <td>0</td>\n",
       "      <td>Urea</td>\n",
       "    </tr>\n",
       "    <tr>\n",
       "      <th>4</th>\n",
       "      <td>38</td>\n",
       "      <td>72</td>\n",
       "      <td>51</td>\n",
       "      <td>Loamy</td>\n",
       "      <td>Wheat</td>\n",
       "      <td>39</td>\n",
       "      <td>0</td>\n",
       "      <td>0</td>\n",
       "      <td>Urea</td>\n",
       "    </tr>\n",
       "    <tr>\n",
       "      <th>...</th>\n",
       "      <td>...</td>\n",
       "      <td>...</td>\n",
       "      <td>...</td>\n",
       "      <td>...</td>\n",
       "      <td>...</td>\n",
       "      <td>...</td>\n",
       "      <td>...</td>\n",
       "      <td>...</td>\n",
       "      <td>...</td>\n",
       "    </tr>\n",
       "    <tr>\n",
       "      <th>547</th>\n",
       "      <td>12</td>\n",
       "      <td>95</td>\n",
       "      <td>42</td>\n",
       "      <td>Sandy</td>\n",
       "      <td>orange</td>\n",
       "      <td>11</td>\n",
       "      <td>14</td>\n",
       "      <td>5</td>\n",
       "      <td>10-10-10</td>\n",
       "    </tr>\n",
       "    <tr>\n",
       "      <th>548</th>\n",
       "      <td>12</td>\n",
       "      <td>95</td>\n",
       "      <td>42</td>\n",
       "      <td>Sandy</td>\n",
       "      <td>orange</td>\n",
       "      <td>11</td>\n",
       "      <td>14</td>\n",
       "      <td>5</td>\n",
       "      <td>10-10-10</td>\n",
       "    </tr>\n",
       "    <tr>\n",
       "      <th>549</th>\n",
       "      <td>27</td>\n",
       "      <td>80</td>\n",
       "      <td>31</td>\n",
       "      <td>Clayey</td>\n",
       "      <td>kidneybeans</td>\n",
       "      <td>19</td>\n",
       "      <td>21</td>\n",
       "      <td>6</td>\n",
       "      <td>10-10-10</td>\n",
       "    </tr>\n",
       "    <tr>\n",
       "      <th>550</th>\n",
       "      <td>27</td>\n",
       "      <td>80</td>\n",
       "      <td>31</td>\n",
       "      <td>Clayey</td>\n",
       "      <td>kidneybeans</td>\n",
       "      <td>19</td>\n",
       "      <td>21</td>\n",
       "      <td>6</td>\n",
       "      <td>10-10-10</td>\n",
       "    </tr>\n",
       "    <tr>\n",
       "      <th>551</th>\n",
       "      <td>27</td>\n",
       "      <td>80</td>\n",
       "      <td>31</td>\n",
       "      <td>Clayey</td>\n",
       "      <td>kidneybeans</td>\n",
       "      <td>19</td>\n",
       "      <td>21</td>\n",
       "      <td>6</td>\n",
       "      <td>10-10-10</td>\n",
       "    </tr>\n",
       "  </tbody>\n",
       "</table>\n",
       "<p>552 rows × 9 columns</p>\n",
       "</div>"
      ],
      "text/plain": [
       "     Temparature  Humidity  Moisture Soil_Type    Crop_Type  Nitrogen  \\\n",
       "0             20        83        26    Clayey         rice        90   \n",
       "1             25        84        32     Loamy         rice        66   \n",
       "2             33        64        50     Loamy        Wheat        41   \n",
       "3             34        65        54     Loamy        Wheat        38   \n",
       "4             38        72        51     Loamy        Wheat        39   \n",
       "..           ...       ...       ...       ...          ...       ...   \n",
       "547           12        95        42     Sandy       orange        11   \n",
       "548           12        95        42     Sandy       orange        11   \n",
       "549           27        80        31    Clayey  kidneybeans        19   \n",
       "550           27        80        31    Clayey  kidneybeans        19   \n",
       "551           27        80        31    Clayey  kidneybeans        19   \n",
       "\n",
       "     Potassium  Phosphorous Fertilizer  \n",
       "0           49           36       Urea  \n",
       "1           59           36       Urea  \n",
       "2            0            0       Urea  \n",
       "3            0            0       Urea  \n",
       "4            0            0       Urea  \n",
       "..         ...          ...        ...  \n",
       "547         14            5   10-10-10  \n",
       "548         14            5   10-10-10  \n",
       "549         21            6   10-10-10  \n",
       "550         21            6   10-10-10  \n",
       "551         21            6   10-10-10  \n",
       "\n",
       "[552 rows x 9 columns]"
      ]
     },
     "execution_count": 103,
     "metadata": {},
     "output_type": "execute_result"
    }
   ],
   "source": [
    "df = pd.read_csv('f2.csv')\n",
    "df"
   ]
  },
  {
   "cell_type": "code",
   "execution_count": 104,
   "id": "68e39457",
   "metadata": {
    "execution": {
     "iopub.execute_input": "2024-06-02T15:55:02.581115Z",
     "iopub.status.busy": "2024-06-02T15:55:02.579594Z",
     "iopub.status.idle": "2024-06-02T15:55:02.609996Z",
     "shell.execute_reply": "2024-06-02T15:55:02.608597Z"
    },
    "papermill": {
     "duration": 0.04039,
     "end_time": "2024-06-02T15:55:02.613184",
     "exception": false,
     "start_time": "2024-06-02T15:55:02.572794",
     "status": "completed"
    },
    "tags": []
   },
   "outputs": [
    {
     "name": "stdout",
     "output_type": "stream",
     "text": [
      "<class 'pandas.core.frame.DataFrame'>\n",
      "RangeIndex: 552 entries, 0 to 551\n",
      "Data columns (total 8 columns):\n",
      " #   Column       Non-Null Count  Dtype \n",
      "---  ------       --------------  ----- \n",
      " 0   Temparature  552 non-null    int64 \n",
      " 1   Humidity     552 non-null    int64 \n",
      " 2   Soil_Type    552 non-null    object\n",
      " 3   Crop_Type    552 non-null    object\n",
      " 4   Nitrogen     552 non-null    int64 \n",
      " 5   Potassium    552 non-null    int64 \n",
      " 6   Phosphorous  552 non-null    int64 \n",
      " 7   Fertilizer   552 non-null    object\n",
      "dtypes: int64(5), object(3)\n",
      "memory usage: 34.6+ KB\n"
     ]
    }
   ],
   "source": [
    "\n",
    "df.drop(\"Moisture\",axis=1,inplace =True)\n",
    "df.info()"
   ]
  },
  {
   "cell_type": "code",
   "execution_count": 112,
   "id": "45341205",
   "metadata": {
    "execution": {
     "iopub.execute_input": "2024-06-02T15:55:02.626892Z",
     "iopub.status.busy": "2024-06-02T15:55:02.626485Z",
     "iopub.status.idle": "2024-06-02T15:55:02.636032Z",
     "shell.execute_reply": "2024-06-02T15:55:02.634420Z"
    },
    "papermill": {
     "duration": 0.019876,
     "end_time": "2024-06-02T15:55:02.638897",
     "exception": false,
     "start_time": "2024-06-02T15:55:02.619021",
     "status": "completed"
    },
    "tags": []
   },
   "outputs": [
    {
     "data": {
      "text/plain": [
       "Urea                  108\n",
       "DAP                   104\n",
       "28-28                  68\n",
       "20-20                  56\n",
       "14-35-14               56\n",
       "TSP                    28\n",
       "17-17-17               28\n",
       "10-26-26               28\n",
       "15-15-15               16\n",
       "14-14-14               16\n",
       "10-10-10               16\n",
       "Superphosphate         12\n",
       "Potassium sulfate.     12\n",
       "Potassium chloride      4\n",
       "Name: Fertilizer, dtype: int64"
      ]
     },
     "execution_count": 112,
     "metadata": {},
     "output_type": "execute_result"
    }
   ],
   "source": [
    "df.drop(\"Soil_Type\",inplace=True,axis=1)\n",
    "df['Fertilizer'].value_counts()"
   ]
  },
  {
   "cell_type": "code",
   "execution_count": 113,
   "id": "253fb807",
   "metadata": {
    "execution": {
     "iopub.execute_input": "2024-06-02T15:55:02.681962Z",
     "iopub.status.busy": "2024-06-02T15:55:02.681152Z",
     "iopub.status.idle": "2024-06-02T15:55:02.691122Z",
     "shell.execute_reply": "2024-06-02T15:55:02.689870Z"
    },
    "papermill": {
     "duration": 0.020171,
     "end_time": "2024-06-02T15:55:02.693742",
     "exception": false,
     "start_time": "2024-06-02T15:55:02.673571",
     "status": "completed"
    },
    "tags": []
   },
   "outputs": [
    {
     "data": {
      "text/plain": [
       "Cotton         64\n",
       "Sugarcane      52\n",
       "Millets        44\n",
       "Pulses         40\n",
       "Paddy          40\n",
       "Wheat          36\n",
       "pomegranate    32\n",
       "Ground Nuts    28\n",
       "Barley         28\n",
       "orange         28\n",
       "Oil seeds      28\n",
       "Tobacco        28\n",
       "Maize          24\n",
       "rice           24\n",
       "watermelon     20\n",
       "kidneybeans    20\n",
       "coffee         16\n",
       "Name: Crop_Type, dtype: int64"
      ]
     },
     "execution_count": 113,
     "metadata": {},
     "output_type": "execute_result"
    }
   ],
   "source": [
    "df['Crop_Type'].value_counts()"
   ]
  },
  {
   "cell_type": "code",
   "execution_count": 114,
   "id": "6394fd89",
   "metadata": {
    "execution": {
     "iopub.execute_input": "2024-06-02T15:55:02.708574Z",
     "iopub.status.busy": "2024-06-02T15:55:02.707891Z",
     "iopub.status.idle": "2024-06-02T15:55:02.717223Z",
     "shell.execute_reply": "2024-06-02T15:55:02.715878Z"
    },
    "papermill": {
     "duration": 0.020186,
     "end_time": "2024-06-02T15:55:02.720438",
     "exception": false,
     "start_time": "2024-06-02T15:55:02.700252",
     "status": "completed"
    },
    "tags": []
   },
   "outputs": [],
   "source": [
    "y = df['Fertilizer'].copy()\n",
    "X = df.drop(['Fertilizer'],axis=1).copy()"
   ]
  },
  {
   "cell_type": "code",
   "execution_count": 115,
   "id": "1b50204c",
   "metadata": {
    "execution": {
     "iopub.execute_input": "2024-06-02T15:55:02.734671Z",
     "iopub.status.busy": "2024-06-02T15:55:02.734231Z",
     "iopub.status.idle": "2024-06-02T15:55:03.146172Z",
     "shell.execute_reply": "2024-06-02T15:55:03.144782Z"
    },
    "papermill": {
     "duration": 0.422769,
     "end_time": "2024-06-02T15:55:03.149390",
     "exception": false,
     "start_time": "2024-06-02T15:55:02.726621",
     "status": "completed"
    },
    "tags": []
   },
   "outputs": [],
   "source": [
    "from sklearn.model_selection import train_test_split\n",
    "X_train,X_test,y_train,y_test = train_test_split(X,y,test_size=0.3,shuffle=True,random_state=1)"
   ]
  },
  {
   "cell_type": "code",
   "execution_count": 119,
   "id": "eca90a4d",
   "metadata": {},
   "outputs": [
    {
     "data": {
      "text/html": [
       "<div>\n",
       "<style scoped>\n",
       "    .dataframe tbody tr th:only-of-type {\n",
       "        vertical-align: middle;\n",
       "    }\n",
       "\n",
       "    .dataframe tbody tr th {\n",
       "        vertical-align: top;\n",
       "    }\n",
       "\n",
       "    .dataframe thead th {\n",
       "        text-align: right;\n",
       "    }\n",
       "</style>\n",
       "<table border=\"1\" class=\"dataframe\">\n",
       "  <thead>\n",
       "    <tr style=\"text-align: right;\">\n",
       "      <th></th>\n",
       "      <th>Temparature</th>\n",
       "      <th>Humidity</th>\n",
       "      <th>Crop_Type</th>\n",
       "      <th>Nitrogen</th>\n",
       "      <th>Potassium</th>\n",
       "      <th>Phosphorous</th>\n",
       "    </tr>\n",
       "  </thead>\n",
       "  <tbody>\n",
       "    <tr>\n",
       "      <th>410</th>\n",
       "      <td>27</td>\n",
       "      <td>54</td>\n",
       "      <td>Pulses</td>\n",
       "      <td>13</td>\n",
       "      <td>0</td>\n",
       "      <td>13</td>\n",
       "    </tr>\n",
       "    <tr>\n",
       "      <th>342</th>\n",
       "      <td>34</td>\n",
       "      <td>65</td>\n",
       "      <td>Wheat</td>\n",
       "      <td>23</td>\n",
       "      <td>0</td>\n",
       "      <td>19</td>\n",
       "    </tr>\n",
       "    <tr>\n",
       "      <th>549</th>\n",
       "      <td>27</td>\n",
       "      <td>80</td>\n",
       "      <td>kidneybeans</td>\n",
       "      <td>19</td>\n",
       "      <td>21</td>\n",
       "      <td>6</td>\n",
       "    </tr>\n",
       "    <tr>\n",
       "      <th>223</th>\n",
       "      <td>26</td>\n",
       "      <td>82</td>\n",
       "      <td>rice</td>\n",
       "      <td>86</td>\n",
       "      <td>41</td>\n",
       "      <td>36</td>\n",
       "    </tr>\n",
       "    <tr>\n",
       "      <th>80</th>\n",
       "      <td>29</td>\n",
       "      <td>58</td>\n",
       "      <td>Ground Nuts</td>\n",
       "      <td>24</td>\n",
       "      <td>0</td>\n",
       "      <td>23</td>\n",
       "    </tr>\n",
       "  </tbody>\n",
       "</table>\n",
       "</div>"
      ],
      "text/plain": [
       "     Temparature  Humidity    Crop_Type  Nitrogen  Potassium  Phosphorous\n",
       "410           27        54       Pulses        13          0           13\n",
       "342           34        65        Wheat        23          0           19\n",
       "549           27        80  kidneybeans        19         21            6\n",
       "223           26        82         rice        86         41           36\n",
       "80            29        58  Ground Nuts        24          0           23"
      ]
     },
     "execution_count": 119,
     "metadata": {},
     "output_type": "execute_result"
    }
   ],
   "source": [
    "X_train.head()"
   ]
  },
  {
   "cell_type": "code",
   "execution_count": 137,
   "id": "21a78d4d",
   "metadata": {
    "execution": {
     "iopub.execute_input": "2024-06-02T15:55:03.163881Z",
     "iopub.status.busy": "2024-06-02T15:55:03.163431Z",
     "iopub.status.idle": "2024-06-02T15:55:03.503124Z",
     "shell.execute_reply": "2024-06-02T15:55:03.501743Z"
    },
    "papermill": {
     "duration": 0.350477,
     "end_time": "2024-06-02T15:55:03.506118",
     "exception": false,
     "start_time": "2024-06-02T15:55:03.155641",
     "status": "completed"
    },
    "tags": []
   },
   "outputs": [
    {
     "data": {
      "text/plain": [
       "Pipeline(steps=[('preprocessor',\n",
       "                 ColumnTransformer(remainder='passthrough',\n",
       "                                   transformers=[('nominal',\n",
       "                                                  Pipeline(steps=[('onehot',\n",
       "                                                                   OneHotEncoder(sparse=False))]),\n",
       "                                                  ['Crop_Type']),\n",
       "                                                 ('numeric',\n",
       "                                                  Pipeline(steps=[('scaler',\n",
       "                                                                   StandardScaler())]),\n",
       "                                                  ['Temparature', 'Humidity',\n",
       "                                                   'Nitrogen', 'Potassium',\n",
       "                                                   'Phosphorous'])])),\n",
       "                ('classifier', LinearSVC(max_iter=10000))])"
      ]
     },
     "execution_count": 137,
     "metadata": {},
     "output_type": "execute_result"
    }
   ],
   "source": [
    "from sklearn.pipeline import Pipeline\n",
    "from sklearn.compose import ColumnTransformer\n",
    "from sklearn.preprocessing import StandardScaler, OneHotEncoder\n",
    "from sklearn.svm import LinearSVC\n",
    "\n",
    "\n",
    "# Define the transformation for nominal (categorical) features\n",
    "nominal_transformer = Pipeline(steps=[\n",
    "    ('onehot', OneHotEncoder(sparse=False))\n",
    "])\n",
    "\n",
    "# Define the transformation for numeric features (scaling)\n",
    "numeric_transformer = Pipeline(steps=[\n",
    "    ('scaler', StandardScaler())\n",
    "])\n",
    "\n",
    "# Preprocessor to handle both categorical and numeric features\n",
    "preprocessor = ColumnTransformer(transformers=[\n",
    "    ('nominal', nominal_transformer, ['Crop_Type']),  # Apply one-hot encoding to 'Crop_Type'\n",
    "    ('numeric', numeric_transformer, ['Temparature', 'Humidity', 'Nitrogen', 'Potassium', 'Phosphorous'])  # Apply scaling to numeric columns\n",
    "], remainder='passthrough')\n",
    "\n",
    "# Complete pipeline with preprocessor and classifier\n",
    "model = Pipeline(steps=[\n",
    "    ('preprocessor', preprocessor),\n",
    "    ('classifier', LinearSVC(max_iter=10000))  # Use LinearSVC instead of RandomForestClassifier\n",
    "])\n",
    "\n",
    "# Now you can fit the model on your training data\n",
    "model.fit(X_train, y_train)\n"
   ]
  },
  {
   "cell_type": "code",
   "execution_count": 138,
   "id": "cc3a674c",
   "metadata": {
    "execution": {
     "iopub.execute_input": "2024-06-02T15:55:03.520836Z",
     "iopub.status.busy": "2024-06-02T15:55:03.520405Z",
     "iopub.status.idle": "2024-06-02T15:55:03.804842Z",
     "shell.execute_reply": "2024-06-02T15:55:03.803457Z"
    },
    "papermill": {
     "duration": 0.295422,
     "end_time": "2024-06-02T15:55:03.807696",
     "exception": false,
     "start_time": "2024-06-02T15:55:03.512274",
     "status": "completed"
    },
    "tags": []
   },
   "outputs": [],
   "source": [
    "# model=LinearSVC()\n",
    "# model.fit(X_train,y_train)"
   ]
  },
  {
   "cell_type": "code",
   "execution_count": 139,
   "id": "af1f1b13",
   "metadata": {
    "execution": {
     "iopub.execute_input": "2024-06-02T15:55:03.823675Z",
     "iopub.status.busy": "2024-06-02T15:55:03.823254Z",
     "iopub.status.idle": "2024-06-02T15:55:03.844938Z",
     "shell.execute_reply": "2024-06-02T15:55:03.843754Z"
    },
    "papermill": {
     "duration": 0.032996,
     "end_time": "2024-06-02T15:55:03.847841",
     "exception": false,
     "start_time": "2024-06-02T15:55:03.814845",
     "status": "completed"
    },
    "tags": []
   },
   "outputs": [
    {
     "data": {
      "text/plain": [
       "0.8253012048192772"
      ]
     },
     "execution_count": 139,
     "metadata": {},
     "output_type": "execute_result"
    }
   ],
   "source": [
    "model.score(X_test,y_test)"
   ]
  },
  {
   "cell_type": "code",
   "execution_count": 140,
   "id": "2162cfff",
   "metadata": {
    "execution": {
     "iopub.execute_input": "2024-06-02T15:55:03.863171Z",
     "iopub.status.busy": "2024-06-02T15:55:03.862767Z",
     "iopub.status.idle": "2024-06-02T15:55:03.892915Z",
     "shell.execute_reply": "2024-06-02T15:55:03.891588Z"
    },
    "papermill": {
     "duration": 0.040941,
     "end_time": "2024-06-02T15:55:03.895661",
     "exception": false,
     "start_time": "2024-06-02T15:55:03.854720",
     "status": "completed"
    },
    "tags": []
   },
   "outputs": [
    {
     "name": "stdout",
     "output_type": "stream",
     "text": [
      "                    precision    recall  f1-score   support\n",
      "\n",
      "          10-10-10       0.00      0.00      0.00         5\n",
      "          10-26-26       1.00      0.64      0.78        14\n",
      "          14-14-14       0.38      1.00      0.55         3\n",
      "          14-35-14       0.85      1.00      0.92        17\n",
      "          15-15-15       1.00      0.50      0.67         6\n",
      "          17-17-17       0.85      1.00      0.92        11\n",
      "             20-20       1.00      1.00      1.00        16\n",
      "             28-28       1.00      1.00      1.00        20\n",
      "               DAP       0.79      0.81      0.80        27\n",
      "Potassium chloride       0.00      0.00      0.00         2\n",
      "Potassium sulfate.       0.33      0.33      0.33         3\n",
      "    Superphosphate       0.75      0.60      0.67         5\n",
      "               TSP       0.36      0.50      0.42         8\n",
      "              Urea       1.00      0.97      0.98        29\n",
      "\n",
      "          accuracy                           0.83       166\n",
      "         macro avg       0.66      0.67      0.65       166\n",
      "      weighted avg       0.84      0.83      0.82       166\n",
      "\n"
     ]
    },
    {
     "name": "stderr",
     "output_type": "stream",
     "text": [
      "C:\\Users\\haris\\anaconda\\lib\\site-packages\\sklearn\\metrics\\_classification.py:1318: UndefinedMetricWarning: Precision and F-score are ill-defined and being set to 0.0 in labels with no predicted samples. Use `zero_division` parameter to control this behavior.\n",
      "  _warn_prf(average, modifier, msg_start, len(result))\n",
      "C:\\Users\\haris\\anaconda\\lib\\site-packages\\sklearn\\metrics\\_classification.py:1318: UndefinedMetricWarning: Precision and F-score are ill-defined and being set to 0.0 in labels with no predicted samples. Use `zero_division` parameter to control this behavior.\n",
      "  _warn_prf(average, modifier, msg_start, len(result))\n",
      "C:\\Users\\haris\\anaconda\\lib\\site-packages\\sklearn\\metrics\\_classification.py:1318: UndefinedMetricWarning: Precision and F-score are ill-defined and being set to 0.0 in labels with no predicted samples. Use `zero_division` parameter to control this behavior.\n",
      "  _warn_prf(average, modifier, msg_start, len(result))\n"
     ]
    }
   ],
   "source": [
    "from sklearn.metrics import classification_report\n",
    "print(classification_report(y_test,model.predict(X_test)))"
   ]
  },
  {
   "cell_type": "code",
   "execution_count": 148,
   "id": "82dda908",
   "metadata": {},
   "outputs": [
    {
     "name": "stdout",
     "output_type": "stream",
     "text": [
      "Prediction 1: TSP\n",
      "Prediction 2: 10-10-10\n",
      "Prediction 3: Urea\n"
     ]
    }
   ],
   "source": [
    "import numpy as np\n",
    "import pandas as pd\n",
    "\n",
    "# Example new input value (replace this with your actual values)\n",
    "new_data = pd.DataFrame({\n",
    "    'Temparature': [21],  # Example numeric value\n",
    "    'Humidity': [82],  # Example numeric value\n",
    "    'Crop_Type': ['rice'],  # Example categorical value\n",
    "    'Nitrogen': [90],  # Example numeric value\n",
    "    'Potassium': [42],  # Example numeric value\n",
    "    'Phosphorous': [20]  # Example numeric value\n",
    "})\n",
    "\n",
    "# Get the decision function values for the new input\n",
    "decision_values = model.decision_function(new_data)\n",
    "\n",
    "# Get the class labels corresponding to the decision values\n",
    "classes = model.named_steps['classifier'].classes_\n",
    "\n",
    "# Get the indices of the top 3 decision values (highest confidence)\n",
    "top_3_indices = np.argsort(decision_values[0])[-3:]  # Get indices of top 3 confidence values\n",
    "\n",
    "# Get the corresponding class labels for the top 3 decision values\n",
    "top_3_classes = classes[top_3_indices]\n",
    "top_3_confidences = decision_values[0, top_3_indices]\n",
    "\n",
    "# Print the top 3 predictions and their confidence scores\n",
    "for i in range(3):\n",
    "    print(f\"Prediction {i+1}: {top_3_classes[i]}\")\n"
   ]
  },
  {
   "cell_type": "code",
   "execution_count": null,
   "id": "b440dea6",
   "metadata": {},
   "outputs": [],
   "source": []
  }
 ],
 "metadata": {
  "kaggle": {
   "accelerator": "none",
   "dataSources": [
    {
     "datasetId": 420288,
     "sourceId": 802720,
     "sourceType": "datasetVersion"
    }
   ],
   "dockerImageVersionId": 30715,
   "isGpuEnabled": false,
   "isInternetEnabled": true,
   "language": "python",
   "sourceType": "notebook"
  },
  "kernelspec": {
   "display_name": "Python 3 (ipykernel)",
   "language": "python",
   "name": "python3"
  },
  "language_info": {
   "codemirror_mode": {
    "name": "ipython",
    "version": 3
   },
   "file_extension": ".py",
   "mimetype": "text/x-python",
   "name": "python",
   "nbconvert_exporter": "python",
   "pygments_lexer": "ipython3",
   "version": "3.9.13"
  },
  "papermill": {
   "default_parameters": {},
   "duration": 8.087729,
   "end_time": "2024-06-02T15:55:04.625527",
   "environment_variables": {},
   "exception": null,
   "input_path": "__notebook__.ipynb",
   "output_path": "__notebook__.ipynb",
   "parameters": {},
   "start_time": "2024-06-02T15:54:56.537798",
   "version": "2.5.0"
  }
 },
 "nbformat": 4,
 "nbformat_minor": 5
}
